{
 "cells": [
  {
   "cell_type": "markdown",
   "metadata": {},
   "source": [
    "# Multi-layer Neural Network"
   ]
  },
  {
   "cell_type": "markdown",
   "metadata": {},
   "source": [
    "## XOR probléma\n",
    "\n",
    "Most egy klasszikus problémát mutatunk be mielőtt rátérnénk a multi-layer perceptronokra (MLP). "
   ]
  },
  {
   "cell_type": "markdown",
   "metadata": {},
   "source": [
    "### Perceptron implementálása"
   ]
  },
  {
   "cell_type": "code",
   "execution_count": 1,
   "metadata": {},
   "outputs": [],
   "source": [
    "# perceptron készítése\n",
    "\n",
    "def step_activation(x):\n",
    "    if x > 0:\n",
    "        a = 1\n",
    "    else:\n",
    "        a = 0\n",
    "    return a\n",
    "\n",
    "def create_perceptron(w1, w2, b):\n",
    "    def perceptron(x1, x2):\n",
    "        v = w1 * x1 + w2 * x2 + b\n",
    "        return step_activation(v)\n",
    "    return perceptron "
   ]
  },
  {
   "cell_type": "markdown",
   "metadata": {},
   "source": [
    "### AND, OR, NOT "
   ]
  },
  {
   "cell_type": "code",
   "execution_count": 2,
   "metadata": {},
   "outputs": [],
   "source": [
    "inputs = [(0, 0), (1, 0), (0, 1), (1, 1)]"
   ]
  },
  {
   "cell_type": "code",
   "execution_count": 3,
   "metadata": {},
   "outputs": [
    {
     "name": "stdout",
     "output_type": "stream",
     "text": [
      "True\n",
      "True\n",
      "True\n",
      "True\n"
     ]
    }
   ],
   "source": [
    "# OR function\n",
    "OR = create_perceptron(1, 1, -0.5)\n",
    "for x in inputs:\n",
    "    y = OR(*x)\n",
    "    y_ = x[0] or x[1]\n",
    "    print(y == y_)"
   ]
  },
  {
   "cell_type": "code",
   "execution_count": 4,
   "metadata": {},
   "outputs": [
    {
     "name": "stdout",
     "output_type": "stream",
     "text": [
      "True\n",
      "True\n",
      "True\n",
      "True\n"
     ]
    }
   ],
   "source": [
    "# ---------------- ÍRD MEG EZT A RÉSZT ----------------\n",
    "# Feladat: mi kerüljön a w1, w2 és b helyére?\n",
    "# AND function\n",
    "w1, w2, b = 1, 1, -1.5\n",
    "AND = create_perceptron(w1, w2, b)\n",
    "for x in inputs:\n",
    "    y = AND(*x)\n",
    "    y_ = x[0] and x[1]\n",
    "    print(y == y_)"
   ]
  },
  {
   "cell_type": "code",
   "execution_count": 5,
   "metadata": {},
   "outputs": [
    {
     "name": "stdout",
     "output_type": "stream",
     "text": [
      "True\n",
      "True\n"
     ]
    }
   ],
   "source": [
    "w1, w2, b = -1, 0, 0.5\n",
    "NOT = create_perceptron(-1, 0, 0.5)\n",
    "dont_care = 0\n",
    "print(NOT(0, dont_care) == (not 0))\n",
    "print(NOT(1, dont_care) == (not 1))"
   ]
  },
  {
   "cell_type": "markdown",
   "metadata": {},
   "source": [
    "### XOR probléma megoldása MLP-vel"
   ]
  },
  {
   "cell_type": "markdown",
   "metadata": {},
   "source": [
    "Először implementáljunk egy speciális MLP-t, aminek összesen két darab perceptronja van, egymás után kötve."
   ]
  },
  {
   "cell_type": "code",
   "execution_count": 9,
   "metadata": {},
   "outputs": [],
   "source": [
    "import numpy as np\n",
    "\n",
    "class MLP:\n",
    "    \n",
    "    def __init__(self, hidden, lr):\n",
    "        self.hidden = hidden\n",
    "        self.w1 = None\n",
    "        self.b1 = None\n",
    "        self.w2 = None\n",
    "        self.b2 = None\n",
    "        self.lr = lr\n",
    "    \n",
    "    def init_weights(self):\n",
    "        self.w1 = np.random.rand(self.hidden, 2)\n",
    "        self.b1 = np.random.rand(self.hidden)\n",
    "        self.w2 = np.random.rand(1, self.hidden)\n",
    "        self.b2 = np.random.rand(1)\n",
    "    \n",
    "    @staticmethod\n",
    "    def sgm(x):\n",
    "        return 1 / (1 + np.exp(-x))\n",
    "\n",
    "    def forward(self, x):\n",
    "        x = np.array(x)\n",
    "        z = np.matmul(self.w1, x) + self.b1\n",
    "        y = np.matmul(self.w2, MLP.sgm(z)) + self.b2\n",
    "        self.state = (y, z, x)\n",
    "        return MLP.sgm(y)\n",
    "    \n",
    "    @staticmethod\n",
    "    def bcc(pred, target):\n",
    "        e = 1e-8\n",
    "        return -np.mean((target * np.log(pred + e) + (1 - target) * np.log(1 - pred + e)))\n",
    "    \n",
    "    @staticmethod\n",
    "    def mse(pred, target):\n",
    "        return np.mean(np.square(pred - target))\n",
    "    \n",
    "    @staticmethod\n",
    "    def sgm_dv(x):\n",
    "        return MLP.sgm(x) * (1 - MLP.sgm(x))\n",
    "    \n",
    "    @staticmethod\n",
    "    def bcc_dv(pred, target):\n",
    "        e = 1e-8\n",
    "        return -np.mean((target / (pred + e) - (1 - target) / (1 - pred + e)))\n",
    "    \n",
    "    @staticmethod\n",
    "    def mse_dv(pred, target):\n",
    "        return np.mean(pred - target)\n",
    "    \n",
    "    def sync(self, other):\n",
    "        self.w1 = other.w1\n",
    "        self.b1 = other.b1\n",
    "        self.w2 = other.w2\n",
    "        self.b2 = other.b2\n",
    "\n",
    "    def backward(self, error):\n",
    "        y, z, x = self.state\n",
    "        w2_dv = error * MLP.sgm_dv(y) * MLP.sgm(z)\n",
    "        b2_dv = error * MLP.sgm_dv(y)\n",
    "        w1_dv = np.outer(error * MLP.sgm_dv(y) * self.w2[0] * MLP.sgm_dv(z), x)\n",
    "        b1_dv = error * MLP.sgm_dv(y) * MLP.sgm_dv(z)\n",
    "        \n",
    "        # update\n",
    "        self.w1 = self.w1 - self.lr * w1_dv\n",
    "        self.b1 = self.b1 - self.lr * b1_dv\n",
    "        self.w2 = self.w2 - self.lr * w2_dv\n",
    "        self.b2 = self.b2 - self.lr * b2_dv"
   ]
  },
  {
   "cell_type": "markdown",
   "metadata": {},
   "source": [
    "Tanítsuk a hálót a hiper-paraméterek beállítása után."
   ]
  },
  {
   "cell_type": "code",
   "execution_count": 10,
   "metadata": {},
   "outputs": [],
   "source": [
    "# ---------------- ÍRD MEG EZT A RÉSZT ----------------\n",
    "# Feladat: Mi a minimálisan szükséges rejtett rétegbeli nódok száma, \n",
    "#          amivel még megoldható a feladat?\n",
    "#          Hogyan változik a döntési tartomány alakja a nódok száma alapján?\n",
    "hiddens = 5\n",
    "lr = 0.5\n",
    "iterations = 10000"
   ]
  },
  {
   "cell_type": "code",
   "execution_count": 11,
   "metadata": {},
   "outputs": [
    {
     "name": "stdout",
     "output_type": "stream",
     "text": [
      "1.433623300074704\n",
      "0.9935232933189535\n",
      "0.9887052765954639\n",
      "0.980576067294205\n",
      "0.9625921176681269\n",
      "0.9191129812027601\n",
      "0.8378525298700601\n",
      "0.7501163030662797\n",
      "0.6926607123540401\n",
      "0.6603369659294308\n",
      "0.6350069634335953\n",
      "0.6008728289749989\n",
      "0.5468046511426385\n",
      "0.45348642050356114\n",
      "0.25470977232596265\n",
      "0.12460515721483006\n",
      "0.07421396415939256\n",
      "0.05085586984316516\n",
      "0.037995047647134364\n",
      "0.03003018948387423\n",
      "0.024678380227004554\n",
      "0.020863894374376402\n",
      "0.018021877821881107\n",
      "0.01583026390775734\n",
      "0.014093214419910032\n",
      "0.012685355862275063\n",
      "0.011522978680656094\n",
      "0.010548203535767993\n",
      "0.00971981316685641\n",
      "0.00900770669687433\n",
      "0.008389417605008932\n",
      "0.007847855868224089\n",
      "0.007369802193698326\n",
      "0.006944878709838779\n",
      "0.006564829783318314\n",
      "0.006223009613093073\n",
      "0.005914010693478122\n",
      "0.0056333901229636395\n",
      "0.0053774650767245595\n",
      "0.0051431579533262614\n",
      "0.004927877720449359\n",
      "0.0047294279936538446\n",
      "0.0045459351009195185\n",
      "0.0043757912585668515\n",
      "0.00421760929320294\n",
      "0.004070186271668032\n",
      "0.003932474066119445\n",
      "0.003803555364068222\n",
      "0.0036826239872514975\n",
      "0.003568968645588015\n",
      "0.003461959448729921\n",
      "0.0033610366458537303\n",
      "0.00326570117707348\n",
      "0.0031755067063447013\n",
      "0.003090052872568411\n",
      "0.003008979547626075\n",
      "0.002931961930838349\n",
      "0.0028587063414801965\n",
      "0.0027889465964786976\n",
      "0.0027224408807600318\n",
      "0.002658969034026697\n",
      "0.0025983301909003925\n",
      "0.002540340722025765\n",
      "0.0024848324324079473\n",
      "0.002431650980354377\n",
      "0.002380654486220169\n",
      "0.0023317123049652255\n",
      "0.0022847039405116164\n",
      "0.0022395180831994294\n",
      "0.0021960517544007043\n",
      "0.0021542095446614703\n",
      "0.0021139029336848286\n",
      "0.0020750496821035536\n",
      "0.002037573286374882\n",
      "0.002001402489303458\n",
      "0.0019664708396957987\n",
      "0.0019327162955012198\n",
      "0.0019000808655220565\n",
      "0.0018685102853997007\n",
      "0.001837953724120368\n",
      "0.001808363517745569\n",
      "0.0017796949274732974\n",
      "0.0017519059194805917\n",
      "0.0017249569642986775\n",
      "0.0016988108537329828\n",
      "0.0016734325335676175\n",
      "0.0016487889504926902\n",
      "0.0016248489118662938\n",
      "0.0016015829570762519\n",
      "0.0015789632393990454\n",
      "0.0015569634173728938\n",
      "0.001535558554804343\n",
      "0.0015147250286201546\n",
      "0.0014944404438571918\n",
      "0.0014746835551545765\n",
      "0.0014554341941766806\n",
      "0.0014366732024515857\n",
      "0.0014183823691603429\n",
      "0.0014005443734574623\n",
      "0.0013831427309428362\n"
     ]
    }
   ],
   "source": [
    "inputs = [(0, 0), (1, 0), (0, 1), (1, 1)]\n",
    "labels = [0, 1, 1, 0]\n",
    "\n",
    "mlp = MLP(hiddens, lr)\n",
    "mlp2 = MLP(hiddens, lr)\n",
    "mlp.init_weights()\n",
    "mlp2.sync(mlp)\n",
    "for i in range(iterations):\n",
    "    losses = 0.0\n",
    "    for x, y in zip(inputs, labels):\n",
    "        y_ = mlp.forward(x)\n",
    "        if i % 100 == 0:\n",
    "            losses += MLP.mse(y_, y)\n",
    "        error = MLP.mse_dv(y_, y)\n",
    "        mlp2.state = mlp.state\n",
    "        mlp2.backward(error)\n",
    "    mlp.sync(mlp2)\n",
    "    if i % 100 == 0:\n",
    "        print(losses)"
   ]
  },
  {
   "cell_type": "code",
   "execution_count": 12,
   "metadata": {},
   "outputs": [
    {
     "name": "stdout",
     "output_type": "stream",
     "text": [
      "[0.00029841]\n",
      "[0.98090535]\n",
      "[0.98093977]\n",
      "[0.02526212]\n"
     ]
    }
   ],
   "source": [
    "# kiértékelés\n",
    "print(mlp.forward((0, 0)))\n",
    "print(mlp.forward((1, 0)))\n",
    "print(mlp.forward((0, 1)))\n",
    "print(mlp.forward((1, 1)))"
   ]
  },
  {
   "cell_type": "code",
   "execution_count": 14,
   "metadata": {},
   "outputs": [
    {
     "data": {
      "image/png": "[encoded data removed]",
      "text/plain": [
       "<Figure size 432x288 with 1 Axes>"
      ]
     },
     "metadata": {
      "needs_background": "light"
     },
     "output_type": "display_data"
    }
   ],
   "source": [
    "from matplotlib import pyplot as plt\n",
    "\n",
    "# szemléltessük a döntési tartományokat\n",
    "for x in range(0, 50):\n",
    "    x_ = -0.25 + x * 1.5 / 50\n",
    "    for y in range(0, 50):\n",
    "        y_ = -0.25 + y * 1.5 / 50\n",
    "        d = mlp.forward((x_, y_))\n",
    "        if d < 0.5:\n",
    "            plt.plot(x_, y_, 'ro')\n",
    "        else:\n",
    "            plt.plot(x_, y_, 'bo')\n",
    "plt.plot([0, 0, 1, 1], [0, 1, 0, 1], 'go')  # logistic\n",
    "plt.title('Decision boundary')\n",
    "plt.xlabel('X')\n",
    "plt.ylabel('Y')\n",
    "plt.show()"
   ]
  },
  {
   "cell_type": "code",
   "execution_count": null,
   "metadata": {},
   "outputs": [],
   "source": []
  }
 ],
 "metadata": {
  "kernelspec": {
   "display_name": "Python 3",
   "language": "python",
   "name": "python3"
  },
  "language_info": {
   "codemirror_mode": {
    "name": "ipython",
    "version": 3
   },
   "file_extension": ".py",
   "mimetype": "text/x-python",
   "name": "python",
   "nbconvert_exporter": "python",
   "pygments_lexer": "ipython3",
   "version": "3.7.7"
  }
 },
 "nbformat": 4,
 "nbformat_minor": 4
}
