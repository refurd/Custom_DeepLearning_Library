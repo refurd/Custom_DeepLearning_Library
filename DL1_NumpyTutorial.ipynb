{
 "cells": [
  {
   "cell_type": "markdown",
   "metadata": {},
   "source": [
    "# Numpy Tutorial"
   ]
  },
  {
   "cell_type": "code",
   "execution_count": 1,
   "metadata": {},
   "outputs": [],
   "source": [
    "import numpy as np"
   ]
  },
  {
   "cell_type": "markdown",
   "metadata": {},
   "source": [
    "## Mátrixok (vektorok) inicializálása"
   ]
  },
  {
   "cell_type": "markdown",
   "metadata": {},
   "source": [
    "### Nullával feltöltés"
   ]
  },
  {
   "cell_type": "code",
   "execution_count": 2,
   "metadata": {},
   "outputs": [],
   "source": [
    "# nullával feltötlött adott méretű mátrix (adattömb)\n",
    "# ez egy 2D-s mátrix lesz\n",
    "# sorok száma: 5\n",
    "# oszlopok száma: 6\n",
    "# A numpy egyedi adattípusokat is definiál!! -> memóriát takaríthatunk meg\n",
    "a = np.zeros((5, 6), dtype=np.float32)"
   ]
  },
  {
   "cell_type": "code",
   "execution_count": 3,
   "metadata": {},
   "outputs": [
    {
     "name": "stdout",
     "output_type": "stream",
     "text": [
      "[[0. 0. 0. 0. 0. 0.]\n",
      " [0. 0. 0. 0. 0. 0.]\n",
      " [0. 0. 0. 0. 0. 0.]\n",
      " [0. 0. 0. 0. 0. 0.]\n",
      " [0. 0. 0. 0. 0. 0.]]\n"
     ]
    }
   ],
   "source": [
    "print(a)"
   ]
  },
  {
   "cell_type": "markdown",
   "metadata": {},
   "source": [
    "### Egyesekkel feltöltés"
   ]
  },
  {
   "cell_type": "code",
   "execution_count": 4,
   "metadata": {},
   "outputs": [],
   "source": [
    "# egyesekkel feltötlött adott méretű mátrix (adattömb)\n",
    "# ez egy 3D-s mátrix lesz\n",
    "# sorok száma: 3\n",
    "# oszlopok száma: 2\n",
    "# mélység: 7\n",
    "b = np.zeros((3, 2, 7), dtype=np.uint8)"
   ]
  },
  {
   "cell_type": "code",
   "execution_count": 5,
   "metadata": {},
   "outputs": [
    {
     "name": "stdout",
     "output_type": "stream",
     "text": [
      "[[[0 0 0 0 0 0 0]\n",
      "  [0 0 0 0 0 0 0]]\n",
      "\n",
      " [[0 0 0 0 0 0 0]\n",
      "  [0 0 0 0 0 0 0]]\n",
      "\n",
      " [[0 0 0 0 0 0 0]\n",
      "  [0 0 0 0 0 0 0]]]\n"
     ]
    }
   ],
   "source": [
    "print(b)"
   ]
  },
  {
   "cell_type": "markdown",
   "metadata": {},
   "source": [
    "Figyeljük meg a zárójelek sorrendjét. Melyik dimenzió hol található?"
   ]
  },
  {
   "cell_type": "markdown",
   "metadata": {},
   "source": [
    "### Létrehozás külső adatból"
   ]
  },
  {
   "cell_type": "code",
   "execution_count": 6,
   "metadata": {},
   "outputs": [],
   "source": [
    "# lehetőség van python listából is létrehozni\n",
    "# ha az előbb megértettük mit jelentenek a zárójelek készítünk egy 2d-s mátrixot\n",
    "# sorok: 3, oszlopok: 2\n",
    "data = [[1.6, 3.1], [2.0, 9.7], [-2.1, 8.7]]\n",
    "c = np.array(data)"
   ]
  },
  {
   "cell_type": "code",
   "execution_count": 7,
   "metadata": {},
   "outputs": [
    {
     "name": "stdout",
     "output_type": "stream",
     "text": [
      "[[ 1.6  3.1]\n",
      " [ 2.   9.7]\n",
      " [-2.1  8.7]]\n"
     ]
    }
   ],
   "source": [
    "print(c)"
   ]
  },
  {
   "cell_type": "code",
   "execution_count": 8,
   "metadata": {},
   "outputs": [
    {
     "name": "stdout",
     "output_type": "stream",
     "text": [
      "(3, 2)\n"
     ]
    }
   ],
   "source": [
    "# ellenőrizzük le a méretét!\n",
    "print(c.shape)"
   ]
  },
  {
   "cell_type": "code",
   "execution_count": 10,
   "metadata": {},
   "outputs": [
    {
     "name": "stdout",
     "output_type": "stream",
     "text": [
      "float64\n"
     ]
    }
   ],
   "source": [
    "# ellenőrizzük le az adattípust, amit ez esetben automatikusan választott\n",
    "print(c.dtype)"
   ]
  },
  {
   "cell_type": "markdown",
   "metadata": {},
   "source": [
    "Ez egy float64, ami azonos a python float-jával."
   ]
  },
  {
   "cell_type": "code",
   "execution_count": 11,
   "metadata": {},
   "outputs": [],
   "source": [
    "# másik példa\n",
    "data = [False, True]\n",
    "d = np.array(data)"
   ]
  },
  {
   "cell_type": "code",
   "execution_count": 13,
   "metadata": {},
   "outputs": [
    {
     "name": "stdout",
     "output_type": "stream",
     "text": [
      "[False  True]\n"
     ]
    }
   ],
   "source": [
    "print(d)"
   ]
  },
  {
   "cell_type": "code",
   "execution_count": 14,
   "metadata": {},
   "outputs": [
    {
     "name": "stdout",
     "output_type": "stream",
     "text": [
      "bool\n"
     ]
    }
   ],
   "source": [
    "print(d.dtype)"
   ]
  },
  {
   "cell_type": "markdown",
   "metadata": {},
   "source": [
    "Ez már egy bool, ami megfelel a bemenetnek. Persze van lehetőség castolni is, pl. a bool is kezelhető intként -> false=0, true=1."
   ]
  },
  {
   "cell_type": "markdown",
   "metadata": {},
   "source": [
    "### Random inicializáció"
   ]
  },
  {
   "cell_type": "code",
   "execution_count": 21,
   "metadata": {},
   "outputs": [],
   "source": [
    "# készítsünk egy mátrixot 0 és 1 közötti értékekkel\n",
    "# uniform eloszlás szerint generálunk\n",
    "e = np.random.rand(3, 6)  # ! itt nem kell tuple a méret megadáshoz\n",
    "f = np.random.rand(4, 6, 8, 9, 1, 3)  # írhatjuk amíg szeretnénk"
   ]
  },
  {
   "cell_type": "code",
   "execution_count": 22,
   "metadata": {},
   "outputs": [
    {
     "name": "stdout",
     "output_type": "stream",
     "text": [
      "[[0.26448483 0.57454299 0.04960726 0.32962228 0.15841569 0.9237017 ]\n",
      " [0.57048481 0.96636201 0.35843336 0.71960978 0.29766331 0.02348115]\n",
      " [0.01955585 0.24014652 0.53739365 0.81185753 0.01965767 0.51427268]]\n"
     ]
    }
   ],
   "source": [
    "print(e)"
   ]
  },
  {
   "cell_type": "markdown",
   "metadata": {},
   "source": [
    "### Matrix python listává alakítása"
   ]
  },
  {
   "cell_type": "code",
   "execution_count": 25,
   "metadata": {},
   "outputs": [],
   "source": [
    "g = e.tolist()"
   ]
  },
  {
   "cell_type": "code",
   "execution_count": 26,
   "metadata": {},
   "outputs": [
    {
     "name": "stdout",
     "output_type": "stream",
     "text": [
      "[[0.26448482748635105, 0.5745429876551503, 0.049607261091905164, 0.32962227899516494, 0.15841569489913643, 0.9237017049313074], [0.5704848071409269, 0.9663620147963771, 0.35843335815724076, 0.7196097760556615, 0.2976633133453913, 0.023481150335982193], [0.01955584677832478, 0.24014651567528722, 0.5373936476226067, 0.8118575256541947, 0.019657667347481977, 0.5142726844616641]]\n"
     ]
    }
   ],
   "source": [
    "print(g)"
   ]
  },
  {
   "cell_type": "markdown",
   "metadata": {},
   "source": [
    "### Fájlba mentés/fájlból olvasás"
   ]
  },
  {
   "cell_type": "code",
   "execution_count": 30,
   "metadata": {},
   "outputs": [],
   "source": [
    "np.save('e.npy', e)"
   ]
  },
  {
   "cell_type": "code",
   "execution_count": 31,
   "metadata": {},
   "outputs": [],
   "source": [
    "e2 = np.load('e.npy')"
   ]
  },
  {
   "cell_type": "code",
   "execution_count": 40,
   "metadata": {},
   "outputs": [
    {
     "name": "stdout",
     "output_type": "stream",
     "text": [
      "[[0.26448483 0.57454299 0.04960726 0.32962228 0.15841569 0.9237017 ]\n",
      " [0.57048481 0.96636201 0.35843336 0.71960978 0.29766331 0.02348115]\n",
      " [0.01955585 0.24014652 0.53739365 0.81185753 0.01965767 0.51427268]]\n"
     ]
    }
   ],
   "source": [
    "print(e2)"
   ]
  },
  {
   "cell_type": "markdown",
   "metadata": {},
   "source": [
    "Érdekesség: A tolist() fv esetén nagyobb a számábrázolási pontosság a kiírásnál. Ez a print függvény sajátja, mert a print fv. impliciten az __str__() függvényét hívja az objektumnak, ami így lett implementálva a szebb megjelenítés miatt. A lista esetén a kiírás teljesen hű. **Tehát nincs adatvesztés mentésnél.** "
   ]
  },
  {
   "cell_type": "code",
   "execution_count": 44,
   "metadata": {},
   "outputs": [
    {
     "data": {
      "text/plain": [
       "'[[0.26448483 0.57454299 0.04960726 0.32962228 0.15841569 0.9237017 ]\\n [0.57048481 0.96636201 0.35843336 0.71960978 0.29766331 0.02348115]\\n [0.01955585 0.24014652 0.53739365 0.81185753 0.01965767 0.51427268]]'"
      ]
     },
     "execution_count": 44,
     "metadata": {},
     "output_type": "execute_result"
    }
   ],
   "source": [
    "e2.__str__()"
   ]
  },
  {
   "cell_type": "code",
   "execution_count": 45,
   "metadata": {},
   "outputs": [
    {
     "name": "stdout",
     "output_type": "stream",
     "text": [
      "0.26448482748635105\n"
     ]
    }
   ],
   "source": [
    "print(e2[0, 0])"
   ]
  },
  {
   "cell_type": "markdown",
   "metadata": {},
   "source": [
    "## Indexelés"
   ]
  },
  {
   "cell_type": "markdown",
   "metadata": {},
   "source": [
    "### Elem hozzáférése"
   ]
  },
  {
   "cell_type": "code",
   "execution_count": 46,
   "metadata": {},
   "outputs": [],
   "source": [
    "hourse = np.random.rand(3, 6, 2)"
   ]
  },
  {
   "cell_type": "code",
   "execution_count": 49,
   "metadata": {},
   "outputs": [
    {
     "name": "stdout",
     "output_type": "stream",
     "text": [
      "[[[0.27229187 0.51490537]\n",
      "  [0.57994761 0.32012495]\n",
      "  [0.69539589 0.38812729]\n",
      "  [0.5386608  0.10634596]\n",
      "  [0.47082435 0.86538625]\n",
      "  [0.82335083 0.03597512]]\n",
      "\n",
      " [[0.56164841 0.67505891]\n",
      "  [0.4222933  0.14601829]\n",
      "  [0.33074367 0.29224479]\n",
      "  [0.79514846 0.87577628]\n",
      "  [0.07349418 0.93473831]\n",
      "  [0.16880758 0.15557263]]\n",
      "\n",
      " [[0.43934359 0.76332026]\n",
      "  [0.32465855 0.83689368]\n",
      "  [0.10443812 0.95153326]\n",
      "  [0.2254636  0.71417486]\n",
      "  [0.2516684  0.78518931]\n",
      "  [0.81535648 0.45037842]]]\n"
     ]
    }
   ],
   "source": [
    "print(hourse)"
   ]
  },
  {
   "cell_type": "code",
   "execution_count": 47,
   "metadata": {},
   "outputs": [],
   "source": [
    "# egy elem hozzáférése (kiolvasása)\n",
    "\n",
    "row_index = 2  # axis 0\n",
    "col_index = 1  # axis 1\n",
    "depth_index = 0  # axis 2 ... (ha volna még több)\n",
    "\n",
    "element = hourse[row_index, col_index, depth_index]"
   ]
  },
  {
   "cell_type": "code",
   "execution_count": 48,
   "metadata": {},
   "outputs": [
    {
     "name": "stdout",
     "output_type": "stream",
     "text": [
      "0.32465855493787366\n"
     ]
    }
   ],
   "source": [
    "print(element)"
   ]
  },
  {
   "cell_type": "code",
   "execution_count": 52,
   "metadata": {},
   "outputs": [],
   "source": [
    "# egy elem megváltoztatása\n",
    "\n",
    "hourse[1, 3, 1] = 0.99"
   ]
  },
  {
   "cell_type": "code",
   "execution_count": 53,
   "metadata": {},
   "outputs": [
    {
     "name": "stdout",
     "output_type": "stream",
     "text": [
      "[[[0.27229187 0.51490537]\n",
      "  [0.57994761 0.32012495]\n",
      "  [0.69539589 0.38812729]\n",
      "  [0.5386608  0.10634596]\n",
      "  [0.47082435 0.86538625]\n",
      "  [0.82335083 0.03597512]]\n",
      "\n",
      " [[0.56164841 0.67505891]\n",
      "  [0.4222933  0.14601829]\n",
      "  [0.33074367 0.29224479]\n",
      "  [0.79514846 0.99      ]\n",
      "  [0.07349418 0.93473831]\n",
      "  [0.16880758 0.15557263]]\n",
      "\n",
      " [[0.43934359 0.76332026]\n",
      "  [0.32465855 0.83689368]\n",
      "  [0.10443812 0.95153326]\n",
      "  [0.2254636  0.71417486]\n",
      "  [0.2516684  0.78518931]\n",
      "  [0.81535648 0.45037842]]]\n"
     ]
    }
   ],
   "source": [
    "print(hourse)"
   ]
  },
  {
   "cell_type": "markdown",
   "metadata": {},
   "source": [
    "### Slice-olás"
   ]
  },
  {
   "cell_type": "markdown",
   "metadata": {},
   "source": [
    "Kiveszünk egy konkrét alvektort, vagy mátrixot. Mintha leszeletelnénk valamelyik dimenzióját, vagy dimenzióit."
   ]
  },
  {
   "cell_type": "code",
   "execution_count": 54,
   "metadata": {},
   "outputs": [],
   "source": [
    "slc = hourse[:, 0, 0]"
   ]
  },
  {
   "cell_type": "code",
   "execution_count": 55,
   "metadata": {},
   "outputs": [
    {
     "name": "stdout",
     "output_type": "stream",
     "text": [
      "[0.27229187 0.56164841 0.43934359]\n"
     ]
    }
   ],
   "source": [
    "print(slc)"
   ]
  },
  {
   "cell_type": "code",
   "execution_count": 56,
   "metadata": {},
   "outputs": [],
   "source": [
    "slc = hourse[:, 1, 0]"
   ]
  },
  {
   "cell_type": "code",
   "execution_count": 57,
   "metadata": {},
   "outputs": [
    {
     "name": "stdout",
     "output_type": "stream",
     "text": [
      "[0.57994761 0.4222933  0.32465855]\n"
     ]
    }
   ],
   "source": [
    "print(slc)"
   ]
  },
  {
   "cell_type": "code",
   "execution_count": 58,
   "metadata": {},
   "outputs": [],
   "source": [
    "slc = hourse[2, 5, :]"
   ]
  },
  {
   "cell_type": "code",
   "execution_count": 59,
   "metadata": {},
   "outputs": [
    {
     "name": "stdout",
     "output_type": "stream",
     "text": [
      "[0.81535648 0.45037842]\n"
     ]
    }
   ],
   "source": [
    "print(slc)"
   ]
  },
  {
   "cell_type": "code",
   "execution_count": 60,
   "metadata": {},
   "outputs": [],
   "source": [
    "# egész mátrix kivítele\n",
    "mtx = hourse[2, :, :]"
   ]
  },
  {
   "cell_type": "code",
   "execution_count": 61,
   "metadata": {},
   "outputs": [
    {
     "name": "stdout",
     "output_type": "stream",
     "text": [
      "[[0.43934359 0.76332026]\n",
      " [0.32465855 0.83689368]\n",
      " [0.10443812 0.95153326]\n",
      " [0.2254636  0.71417486]\n",
      " [0.2516684  0.78518931]\n",
      " [0.81535648 0.45037842]]\n"
     ]
    }
   ],
   "source": [
    "print(mtx)"
   ]
  },
  {
   "cell_type": "markdown",
   "metadata": {},
   "source": [
    "Lehetőség van azonban csak egy bizonyos szakasz kivítelére is:"
   ]
  },
  {
   "cell_type": "code",
   "execution_count": 62,
   "metadata": {},
   "outputs": [],
   "source": [
    "slc = hourse[1, 5, 1:]  # kihagyja a legelső elemet"
   ]
  },
  {
   "cell_type": "code",
   "execution_count": 63,
   "metadata": {},
   "outputs": [
    {
     "name": "stdout",
     "output_type": "stream",
     "text": [
      "[0.15557263]\n"
     ]
    }
   ],
   "source": [
    "print(slc)"
   ]
  },
  {
   "cell_type": "code",
   "execution_count": 64,
   "metadata": {},
   "outputs": [],
   "source": [
    "# és ha az utolsót hagyjuk ki?\n",
    "slc = hourse[1, 5, :-1]  # a mínusz előjel segít"
   ]
  },
  {
   "cell_type": "code",
   "execution_count": 65,
   "metadata": {},
   "outputs": [
    {
     "name": "stdout",
     "output_type": "stream",
     "text": [
      "[0.16880758]\n"
     ]
    }
   ],
   "source": [
    "print(slc)"
   ]
  },
  {
   "cell_type": "code",
   "execution_count": 66,
   "metadata": {},
   "outputs": [
    {
     "data": {
      "text/plain": [
       "0.5149053659267315"
      ]
     },
     "execution_count": 66,
     "metadata": {},
     "output_type": "execute_result"
    }
   ],
   "source": [
    "# téhát hova mutat -1?\n",
    "hourse[0, 0, -1]"
   ]
  },
  {
   "cell_type": "markdown",
   "metadata": {},
   "source": [
    "A -1 az utolós elemre mutat, viszont a from : to úgy értelmezhető, hogy inclusive : exclusive -> [a, b)\n",
    "\n",
    "Természetesen lehet -2, -3 stb."
   ]
  },
  {
   "cell_type": "markdown",
   "metadata": {},
   "source": [
    "### Broadcastolás"
   ]
  },
  {
   "cell_type": "markdown",
   "metadata": {},
   "source": [
    "Mintha az előzőt megfordítanánk. Egy kisebb méretű mátrixról egy nagyobb méretű mátrixba másolunk, a kis méretű mátrix többszörözésével (megismétlésével)."
   ]
  },
  {
   "cell_type": "code",
   "execution_count": 67,
   "metadata": {},
   "outputs": [],
   "source": [
    "# 1d-s példa\n",
    "vec = np.zeros((5))\n",
    "vec[:] = 10"
   ]
  },
  {
   "cell_type": "code",
   "execution_count": 68,
   "metadata": {},
   "outputs": [
    {
     "name": "stdout",
     "output_type": "stream",
     "text": [
      "[10. 10. 10. 10. 10.]\n"
     ]
    }
   ],
   "source": [
    "print(vec)"
   ]
  },
  {
   "cell_type": "code",
   "execution_count": 69,
   "metadata": {},
   "outputs": [],
   "source": [
    "# 3d-s példa\n",
    "hourse[1, 2:4, :] = 0.95"
   ]
  },
  {
   "cell_type": "code",
   "execution_count": 70,
   "metadata": {},
   "outputs": [
    {
     "name": "stdout",
     "output_type": "stream",
     "text": [
      "[[[0.27229187 0.51490537]\n",
      "  [0.57994761 0.32012495]\n",
      "  [0.69539589 0.38812729]\n",
      "  [0.5386608  0.10634596]\n",
      "  [0.47082435 0.86538625]\n",
      "  [0.82335083 0.03597512]]\n",
      "\n",
      " [[0.56164841 0.67505891]\n",
      "  [0.4222933  0.14601829]\n",
      "  [0.95       0.95      ]\n",
      "  [0.95       0.95      ]\n",
      "  [0.07349418 0.93473831]\n",
      "  [0.16880758 0.15557263]]\n",
      "\n",
      " [[0.43934359 0.76332026]\n",
      "  [0.32465855 0.83689368]\n",
      "  [0.10443812 0.95153326]\n",
      "  [0.2254636  0.71417486]\n",
      "  [0.2516684  0.78518931]\n",
      "  [0.81535648 0.45037842]]]\n"
     ]
    }
   ],
   "source": [
    "print(hourse)"
   ]
  },
  {
   "cell_type": "markdown",
   "metadata": {},
   "source": [
    "Lehet numpy mátrix is index a numpy mátrixnak!"
   ]
  },
  {
   "cell_type": "markdown",
   "metadata": {},
   "source": [
    "## Műveletek a mátrixokon"
   ]
  },
  {
   "cell_type": "markdown",
   "metadata": {},
   "source": [
    "### Alapműveletek"
   ]
  },
  {
   "cell_type": "code",
   "execution_count": 79,
   "metadata": {},
   "outputs": [],
   "source": [
    "# összeadás/kivonás\n",
    "# azonos méret esetén\n",
    "# elementwise\n",
    "a = np.random.rand(2, 3)\n",
    "b = np.random.rand(2, 3)\n",
    "c = a + b"
   ]
  },
  {
   "cell_type": "code",
   "execution_count": 80,
   "metadata": {},
   "outputs": [
    {
     "name": "stdout",
     "output_type": "stream",
     "text": [
      "[[0.31103459 0.87420962 0.50106961]\n",
      " [0.21895929 0.89842172 0.64862647]] + [[0.9455017  0.75528003 0.15601352]\n",
      " [0.86486497 0.44569017 0.23470262]] = [[1.25653629 1.62948965 0.65708313]\n",
      " [1.08382426 1.34411189 0.88332909]]\n"
     ]
    }
   ],
   "source": [
    "print(\"{} + {} = {}\".format(a, b, c))"
   ]
  },
  {
   "cell_type": "code",
   "execution_count": 81,
   "metadata": {},
   "outputs": [],
   "source": [
    "# szorzás (nem mátrix szorzás)\n",
    "# elementwise\n",
    "c = a * b"
   ]
  },
  {
   "cell_type": "code",
   "execution_count": 82,
   "metadata": {},
   "outputs": [
    {
     "name": "stdout",
     "output_type": "stream",
     "text": [
      "[[0.31103459 0.87420962 0.50106961]\n",
      " [0.21895929 0.89842172 0.64862647]] x [[0.9455017  0.75528003 0.15601352]\n",
      " [0.86486497 0.44569017 0.23470262]] = [[0.29408373 0.66027307 0.07817363]\n",
      " [0.18937022 0.40041773 0.15223433]]\n"
     ]
    }
   ],
   "source": [
    "print(\"{} x {} = {}\".format(a, b, c))"
   ]
  },
  {
   "cell_type": "code",
   "execution_count": 83,
   "metadata": {},
   "outputs": [],
   "source": [
    "# osztás, vigyázni kell a nevezőben a nullákkal\n",
    "c = a / b"
   ]
  },
  {
   "cell_type": "code",
   "execution_count": 84,
   "metadata": {},
   "outputs": [
    {
     "name": "stdout",
     "output_type": "stream",
     "text": [
      "[[0.31103459 0.87420962 0.50106961]\n",
      " [0.21895929 0.89842172 0.64862647]] / [[0.9455017  0.75528003 0.15601352]\n",
      " [0.86486497 0.44569017 0.23470262]] = [[0.32896248 1.15746423 3.21170629]\n",
      " [0.25317165 2.0157988  2.76360987]]\n"
     ]
    }
   ],
   "source": [
    "print(\"{} / {} = {}\".format(a, b, c))"
   ]
  },
  {
   "cell_type": "markdown",
   "metadata": {},
   "source": [
    "Van egy speciális változója a numpy-nak, np.nan, ami arra szolgál, hogy a számként nem értelmezhető objektumokat kifejezze.\n",
    "Jól jön például hiányzó értékek esetén, mivel nem kell python None-t használni."
   ]
  },
  {
   "cell_type": "code",
   "execution_count": 86,
   "metadata": {},
   "outputs": [
    {
     "data": {
      "text/plain": [
       "False"
      ]
     },
     "execution_count": 86,
     "metadata": {},
     "output_type": "execute_result"
    }
   ],
   "source": [
    "# nem minden az aminek látszik!\n",
    "np.nan == np.nan"
   ]
  },
  {
   "cell_type": "code",
   "execution_count": 87,
   "metadata": {},
   "outputs": [
    {
     "data": {
      "text/plain": [
       "True"
      ]
     },
     "execution_count": 87,
     "metadata": {},
     "output_type": "execute_result"
    }
   ],
   "source": [
    "# helyette\n",
    "np.isnan(np.nan)"
   ]
  },
  {
   "cell_type": "code",
   "execution_count": 88,
   "metadata": {},
   "outputs": [
    {
     "data": {
      "text/plain": [
       "False"
      ]
     },
     "execution_count": 88,
     "metadata": {},
     "output_type": "execute_result"
    }
   ],
   "source": [
    "np.isnan(0)"
   ]
  },
  {
   "cell_type": "markdown",
   "metadata": {},
   "source": [
    "Az np.nan minden műveletben np.nan-t produkál. Tehát hosszabb számításoknál szétterjed."
   ]
  },
  {
   "cell_type": "markdown",
   "metadata": {},
   "source": [
    "A bool műveletek is hasonlóan működnek, elementwise kell értelmezni."
   ]
  },
  {
   "cell_type": "code",
   "execution_count": 89,
   "metadata": {},
   "outputs": [],
   "source": [
    "a = np.random.rand(5)\n",
    "b = np.random.rand(5)\n",
    "c = a < b"
   ]
  },
  {
   "cell_type": "code",
   "execution_count": 90,
   "metadata": {},
   "outputs": [
    {
     "name": "stdout",
     "output_type": "stream",
     "text": [
      "[False False False False  True] bool\n"
     ]
    }
   ],
   "source": [
    "print(c, c.dtype)"
   ]
  },
  {
   "cell_type": "markdown",
   "metadata": {},
   "source": [
    "### Redukciós műveletek"
   ]
  },
  {
   "cell_type": "markdown",
   "metadata": {},
   "source": [
    "Például összegzés, átlag, szórás stb."
   ]
  },
  {
   "cell_type": "code",
   "execution_count": 91,
   "metadata": {},
   "outputs": [
    {
     "data": {
      "text/plain": [
       "array([5., 5., 5., 5., 5., 5.])"
      ]
     },
     "execution_count": 91,
     "metadata": {},
     "output_type": "execute_result"
    }
   ],
   "source": [
    "# összegzés\n",
    "# emlékezzünk az axis-okra\n",
    "# számos fv. alkalmazza\n",
    "a = np.ones((5, 6))\n",
    "np.sum(a, axis=0)  # soronkénti összeg"
   ]
  },
  {
   "cell_type": "code",
   "execution_count": 92,
   "metadata": {},
   "outputs": [
    {
     "data": {
      "text/plain": [
       "array([6., 6., 6., 6., 6.])"
      ]
     },
     "execution_count": 92,
     "metadata": {},
     "output_type": "execute_result"
    }
   ],
   "source": [
    "np.sum(a, axis=1)  # oszloponkénti"
   ]
  },
  {
   "cell_type": "code",
   "execution_count": 93,
   "metadata": {},
   "outputs": [
    {
     "data": {
      "text/plain": [
       "30.0"
      ]
     },
     "execution_count": 93,
     "metadata": {},
     "output_type": "execute_result"
    }
   ],
   "source": [
    "np.sum(a)  # mindent"
   ]
  },
  {
   "cell_type": "code",
   "execution_count": 94,
   "metadata": {},
   "outputs": [
    {
     "data": {
      "text/plain": [
       "1.0"
      ]
     },
     "execution_count": 94,
     "metadata": {},
     "output_type": "execute_result"
    }
   ],
   "source": [
    "# hasonlóan lehet átlagot számolni\n",
    "np.mean(a)"
   ]
  },
  {
   "cell_type": "code",
   "execution_count": 95,
   "metadata": {},
   "outputs": [
    {
     "data": {
      "text/plain": [
       "1.0"
      ]
     },
     "execution_count": 95,
     "metadata": {},
     "output_type": "execute_result"
    }
   ],
   "source": [
    "# vagy\n",
    "a.mean()"
   ]
  },
  {
   "cell_type": "markdown",
   "metadata": {},
   "source": [
    "### Mátrix/vektor műveletek"
   ]
  },
  {
   "cell_type": "code",
   "execution_count": 97,
   "metadata": {},
   "outputs": [
    {
     "name": "stdout",
     "output_type": "stream",
     "text": [
      "[[0.99363922 0.18958422 0.68291063 0.71274462]\n",
      " [0.28181341 0.9005959  0.17588704 0.00230949]\n",
      " [0.21388027 0.34354221 0.62589605 0.35038713]]\n",
      "[[0.94839361 0.67896387 0.4456512 ]\n",
      " [0.59986662 0.03589068 0.50650141]\n",
      " [0.86097268 0.09838683 0.17349004]\n",
      " [0.96954397 0.11327926 0.23112156]]\n"
     ]
    },
    {
     "data": {
      "text/plain": [
       "array([[2.33509098, 0.82937803, 0.82205003],\n",
       "       [0.96118054, 0.24123071, 0.612792  ],\n",
       "       [1.28751731, 0.25881847, 0.45888936]])"
      ]
     },
     "execution_count": 97,
     "metadata": {},
     "output_type": "execute_result"
    }
   ],
   "source": [
    "# mátrixok szorzása\n",
    "# 2d-s eset\n",
    "a = np.random.rand(3, 4)\n",
    "b = np.random.rand(4, 3)\n",
    "print(a)\n",
    "print(b)\n",
    "np.matmul(a, b)"
   ]
  },
  {
   "cell_type": "markdown",
   "metadata": {},
   "source": [
    "Több dimenziós esetben is lehetséges, érdemes átolvasni a dokumentációt, hogyan jár el:\n",
    "https://numpy.org/doc/stable/reference/generated/numpy.matmul.html#numpy.matmul\n"
   ]
  },
  {
   "cell_type": "code",
   "execution_count": 98,
   "metadata": {},
   "outputs": [
    {
     "data": {
      "text/plain": [
       "2.520131168679234"
      ]
     },
     "execution_count": 98,
     "metadata": {},
     "output_type": "execute_result"
    }
   ],
   "source": [
    "# trace\n",
    "np.trace(a)  # mindegy, hogy négyzetes e, vesz egy diagonálist"
   ]
  },
  {
   "cell_type": "code",
   "execution_count": 101,
   "metadata": {},
   "outputs": [
    {
     "data": {
      "text/plain": [
       "True"
      ]
     },
     "execution_count": 101,
     "metadata": {},
     "output_type": "execute_result"
    }
   ],
   "source": [
    "# bool matrix esetén van lehetőség arra, hogy eldöntsük mindegyik igaz, vagy legalább az egyik igaz\n",
    "a = np.array([True, False, False, False])\n",
    "np.any(a)"
   ]
  },
  {
   "cell_type": "code",
   "execution_count": 102,
   "metadata": {},
   "outputs": [
    {
     "data": {
      "text/plain": [
       "False"
      ]
     },
     "execution_count": 102,
     "metadata": {},
     "output_type": "execute_result"
    }
   ],
   "source": [
    "np.all(a)"
   ]
  },
  {
   "cell_type": "markdown",
   "metadata": {},
   "source": [
    "Nem tudjuk végig nézni mindegyik műveletet, nem is érdemes, a dokumentáció elég kifejező. Lehet még a mátrix alakját változtatni, pl. reshape. Lehet összefűzni vektorokat: concat, vstack, hstack, stack stb. A lista hosszú."
   ]
  },
  {
   "cell_type": "markdown",
   "metadata": {},
   "source": [
    "## Vektorizáció"
   ]
  },
  {
   "cell_type": "markdown",
   "metadata": {},
   "source": [
    "A vektorizáció lényege, hogy a művelet, amit végzünk a vektor (mátrix) összes elemét egyszerre érinti. Tehát egy megelelő hardware, vagy párhuzamosítás esetén egy időben megtörténhetnek."
   ]
  },
  {
   "cell_type": "markdown",
   "metadata": {},
   "source": [
    "Numpy-ban sok függvény támogatja a vektorizációt. Például:"
   ]
  },
  {
   "cell_type": "code",
   "execution_count": 104,
   "metadata": {},
   "outputs": [],
   "source": [
    "x = np.array([4, 9, 5, 11])"
   ]
  },
  {
   "cell_type": "code",
   "execution_count": 105,
   "metadata": {},
   "outputs": [
    {
     "data": {
      "text/plain": [
       "array([2.        , 3.        , 2.23606798, 3.31662479])"
      ]
     },
     "execution_count": 105,
     "metadata": {},
     "output_type": "execute_result"
    }
   ],
   "source": [
    "np.sqrt(x)  # gyökvonás"
   ]
  },
  {
   "cell_type": "code",
   "execution_count": 106,
   "metadata": {},
   "outputs": [
    {
     "data": {
      "text/plain": [
       "array([5.45981500e+01, 8.10308393e+03, 1.48413159e+02, 5.98741417e+04])"
      ]
     },
     "execution_count": 106,
     "metadata": {},
     "output_type": "execute_result"
    }
   ],
   "source": [
    "np.exp(x)  # e^x"
   ]
  },
  {
   "cell_type": "code",
   "execution_count": 107,
   "metadata": {},
   "outputs": [
    {
     "data": {
      "text/plain": [
       "array([1.38629436, 2.19722458, 1.60943791, 2.39789527])"
      ]
     },
     "execution_count": 107,
     "metadata": {},
     "output_type": "execute_result"
    }
   ],
   "source": [
    "np.log(x)  # természetes alapú log"
   ]
  },
  {
   "cell_type": "code",
   "execution_count": 108,
   "metadata": {},
   "outputs": [
    {
     "data": {
      "text/plain": [
       "array([-0.7568025 ,  0.41211849, -0.95892427, -0.99999021])"
      ]
     },
     "execution_count": 108,
     "metadata": {},
     "output_type": "execute_result"
    }
   ],
   "source": [
    "np.sin(x)  # trigonometrikus fv-k"
   ]
  },
  {
   "cell_type": "markdown",
   "metadata": {},
   "source": [
    "Itt egy szemléltetés, hogy ezt miért érdemes komolyan venni:"
   ]
  },
  {
   "cell_type": "code",
   "execution_count": 109,
   "metadata": {},
   "outputs": [],
   "source": [
    "# adva van két kép és L2 távolságot számolunk köztük\n",
    "# L2 norma = szum_{minden pixel pár} (pixel1 - pixel2)^2\n",
    "img1 = np.random.rand(200, 200) * 255\n",
    "img2 = np.random.rand(200, 200) * 255"
   ]
  },
  {
   "cell_type": "code",
   "execution_count": 110,
   "metadata": {},
   "outputs": [],
   "source": [
    "# nem vektorizált eset\n",
    "import math\n",
    "def l2_novec():\n",
    "    l2_norm = 0\n",
    "    for r in range(200):\n",
    "        for c in range(200):\n",
    "            l2_norm += (img1[r, c] - img2[r, c]) ** 2\n",
    "    return math.sqrt(l2_norm)"
   ]
  },
  {
   "cell_type": "code",
   "execution_count": 111,
   "metadata": {},
   "outputs": [
    {
     "data": {
      "text/plain": [
       "20638.74316799691"
      ]
     },
     "execution_count": 111,
     "metadata": {},
     "output_type": "execute_result"
    }
   ],
   "source": [
    "l2_novec()"
   ]
  },
  {
   "cell_type": "code",
   "execution_count": 115,
   "metadata": {},
   "outputs": [],
   "source": [
    "def l2_withvec():\n",
    "    temp = img1 - img2\n",
    "    return np.sqrt(np.sum(temp * temp))"
   ]
  },
  {
   "cell_type": "code",
   "execution_count": 116,
   "metadata": {},
   "outputs": [
    {
     "data": {
      "text/plain": [
       "20638.743167996916"
      ]
     },
     "execution_count": 116,
     "metadata": {},
     "output_type": "execute_result"
    }
   ],
   "source": [
    "l2_withvec()"
   ]
  },
  {
   "cell_type": "code",
   "execution_count": 120,
   "metadata": {},
   "outputs": [
    {
     "name": "stdout",
     "output_type": "stream",
     "text": [
      "3.8345062732696533\n"
     ]
    }
   ],
   "source": [
    "# időmérés\n",
    "import time\n",
    "\n",
    "t1 = time.time()\n",
    "for _ in range(100):\n",
    "    l2_novec()\n",
    "t2 = time.time()\n",
    "print(t2 - t1)"
   ]
  },
  {
   "cell_type": "code",
   "execution_count": 121,
   "metadata": {},
   "outputs": [
    {
     "name": "stdout",
     "output_type": "stream",
     "text": [
      "0.007998228073120117\n"
     ]
    }
   ],
   "source": [
    "t1 = time.time()\n",
    "for _ in range(100):\n",
    "    l2_withvec()\n",
    "t2 = time.time()\n",
    "print(t2 - t1)"
   ]
  },
  {
   "cell_type": "markdown",
   "metadata": {},
   "source": [
    "A különbség releváns. Tehát érdemes kihasználni a numpy ezen képességeit, amennyire csak lehet."
   ]
  },
  {
   "cell_type": "code",
   "execution_count": null,
   "metadata": {},
   "outputs": [],
   "source": []
  }
 ],
 "metadata": {
  "kernelspec": {
   "display_name": "Python 3",
   "language": "python",
   "name": "python3"
  },
  "language_info": {
   "codemirror_mode": {
    "name": "ipython",
    "version": 3
   },
   "file_extension": ".py",
   "mimetype": "text/x-python",
   "name": "python",
   "nbconvert_exporter": "python",
   "pygments_lexer": "ipython3",
   "version": "3.8.3"
  }
 },
 "nbformat": 4,
 "nbformat_minor": 4
}
