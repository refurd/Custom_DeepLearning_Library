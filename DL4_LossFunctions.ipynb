{
 "cells": [
  {
   "cell_type": "markdown",
   "metadata": {},
   "source": [
    "# Loss függvények"
   ]
  },
  {
   "cell_type": "code",
   "execution_count": 1,
   "metadata": {},
   "outputs": [],
   "source": [
    "%matplotlib inline\n",
    "%config IPCompleter.greedy=True"
   ]
  },
  {
   "cell_type": "code",
   "execution_count": 2,
   "metadata": {},
   "outputs": [],
   "source": [
    "from multilayer_nn import losses as L\n",
    "from matplotlib import pyplot as plt\n",
    "import numpy as np"
   ]
  },
  {
   "cell_type": "markdown",
   "metadata": {},
   "source": [
    "## Mean Squared Loss"
   ]
  },
  {
   "cell_type": "markdown",
   "metadata": {},
   "source": [
    "A mean squared error a következőképpen van definiálva. Ha az elvárt és a prediktált kimeneteket vektorokként kezeljük, akkor egy L2 távolságot kell köztük számolni.\n",
    "\n",
    "\\begin{equation}\n",
    "L_{mse} = \\frac{1}{2}\\sum_i{\\left|\\left| y^{(i)}_{exp} - y^{(i)}_{pred} \\right|\\right|^2_2}\n",
    "\\end{equation}"
   ]
  },
  {
   "cell_type": "markdown",
   "metadata": {},
   "source": [
    "A loss függvény alakján nem változtat, de a fenti összefüggést sok esetben osztják a minták darabszámával. Nézzük meg a görbe alakját, ha feltesszük, hogy csak egy darab mintánk van."
   ]
  },
  {
   "cell_type": "code",
   "execution_count": 3,
   "metadata": {},
   "outputs": [
    {
     "data": {
      "text/plain": [
       "[<matplotlib.lines.Line2D at 0x2067f7f4828>]"
      ]
     },
     "execution_count": 3,
     "metadata": {},
     "output_type": "execute_result"
    },
    {
     "data": {
      "image/png": "[encoded data removed]",
      "text/plain": [
       "<Figure size 432x288 with 1 Axes>"
      ]
     },
     "metadata": {},
     "output_type": "display_data"
    }
   ],
   "source": [
    "y_exp = 0.5\n",
    "y_pred = np.array([t/10.0 for t in range(-20, 20, 1)])\n",
    "\n",
    "L_mse = lambda y_p: L.MeanSquaredError().loss([y_p], [y_exp])\n",
    "losses = list(map(L_mse, y_pred))\n",
    "\n",
    "plt.plot(y_pred, losses, 'b+')"
   ]
  },
  {
   "cell_type": "markdown",
   "metadata": {},
   "source": [
    "Látható, hogy ez egy parabola, aminek a minimuma jelen esetben az $y_{exp}$-nél van. A loss értéke növekszik, ahogy távolodunk az elvárt értéktől. Az MSE elég népszerű, mivel klasszifikciós és regressziós problémáknál is lehet használmni. Bár elsődlegesen regressziónál érdemes."
   ]
  },
  {
   "cell_type": "markdown",
   "metadata": {},
   "source": [
    "## Cross Entropy loss"
   ]
  },
  {
   "cell_type": "markdown",
   "metadata": {},
   "source": [
    "A cross entropy loss definíciója:\n",
    "\n",
    "\\begin{equation}\n",
    "L_{ce} = -\\sum_i{\\sum_j{I\\left\\{y^{(i)}_{exp}(j)=1\\right\\} \\cdot \\log\\left( y^{(i)}_{pred}(j) \\right) }},\n",
    "\\end{equation}\n",
    "\n",
    "ahol $y^{(i)}_{exp}(j)$ jelenti az $i$-dik minta (vektor) $j$-dik elemét. Az elvárt kimentnek one-hot-encoded-nak kell lennie (mindenhol 0-ák vannak, 1-es pedig ott, ami az elvárt cimke). \n",
    "\n",
    "Ez a loss elsődlegesen klasszifikációra való. Ha az $y$ két dimenziós, akkor *binary cross entropy loss*-ról van szó, egyéb esetben pedig *cathegorical cross entropy*-ról."
   ]
  },
  {
   "cell_type": "code",
   "execution_count": 4,
   "metadata": {},
   "outputs": [
    {
     "data": {
      "text/plain": [
       "[<matplotlib.lines.Line2D at 0x2067f868080>]"
      ]
     },
     "execution_count": 4,
     "metadata": {},
     "output_type": "execute_result"
    },
    {
     "data": {
      "image/png": "[encoded data removed]",
      "text/plain": [
       "<Figure size 432x288 with 1 Axes>"
      ]
     },
     "metadata": {},
     "output_type": "display_data"
    }
   ],
   "source": [
    "y_exp = np.array([0, 1])\n",
    "y_pred = [np.array([1-t/100.0, t/100.0]) for t in range(4, 98, 2)]\n",
    "\n",
    "L_ce = lambda y_p: L.CrossEntropy().loss([y_p], [y_exp])\n",
    "losses = list(map(L_ce, y_pred))\n",
    "\n",
    "plt.plot([x[1] for x in y_pred], losses, 'y^')"
   ]
  },
  {
   "cell_type": "markdown",
   "metadata": {},
   "source": [
    "## Huber loss"
   ]
  },
  {
   "cell_type": "markdown",
   "metadata": {},
   "source": [
    "A Huber-loss két részből áll: egy parabolából és lineáris függvényekből, amik folytonosan, törés nélkül kapcsolódnak egymáshoz.\n",
    "\n",
    "\\begin{equation}\n",
    "L_{huber} = \\frac{1}{2} \\left( y - f(x) \\right)^2,\\ |y - f(x)| \\leq \\delta,\n",
    "\\end{equation}\n",
    "\n",
    "\\begin{equation}\n",
    "L_{huber} = \\delta | y - f(x) | - \\frac{1}{2} \\delta^2,\\ egyébként. \n",
    "\\end{equation}\n",
    "\n",
    "A $\\delta$ az a sugár, amin belül parabolát (vagy paraboloidot) használunk, ezen kívül már lineáris függvény van. A cél, hogy a nagyon különböző megoldásnál ne legyen túlságosan nagy a gradiens, mivel ez vezethet instabilitáshoz. "
   ]
  },
  {
   "cell_type": "code",
   "execution_count": 5,
   "metadata": {},
   "outputs": [
    {
     "data": {
      "text/plain": [
       "[<matplotlib.lines.Line2D at 0x2067f8a0cf8>]"
      ]
     },
     "execution_count": 5,
     "metadata": {},
     "output_type": "execute_result"
    },
    {
     "data": {
      "image/png": "[encoded data removed]",
      "text/plain": [
       "<Figure size 432x288 with 1 Axes>"
      ]
     },
     "metadata": {},
     "output_type": "display_data"
    }
   ],
   "source": [
    "y_exp = 0.5\n",
    "y_pred = np.array([t/10.0 for t in range(-20, 30, 1)])\n",
    "\n",
    "L_huber = lambda y_p: L.Huber().loss([y_p], [y_exp])\n",
    "losses = list(map(L_huber, y_pred))\n",
    "\n",
    "plt.plot(y_pred, losses, 'b+')"
   ]
  },
  {
   "cell_type": "markdown",
   "metadata": {},
   "source": [
    "## Kullback-Leibler divergence loss"
   ]
  },
  {
   "cell_type": "markdown",
   "metadata": {},
   "source": [
    "A Kullback-Leibler divergencia egy olyan függvény, aminek a segítségével megmérhetjük a távolságot, eltérést két valószínűségi eloszlás között. Értéke 0, ha a két eloszlás azonos. Legyen $p$ és $q$ két diszkrét valószínűségi eloszlás (folytonosra is lehet értelmezni, szumma helyett integrál lesz). A formula:\n",
    "\n",
    "\\begin{equation}\n",
    "KL(p|q) = \\sum_j { p_j \\log\\frac{p_j}{q_j}}.\n",
    "\\end{equation}\n",
    "\n",
    "Vegyük észre, hogy nem szimmetrikus! A Jensen-Shannon divergencia viszont igen:\n",
    "\n",
    "\\begin{equation}\n",
    "JSD(p|q) = \\frac{1}{2} \\left( KL\\left(p\\left|\\frac{p+q}{2}\\right. \\right) + KL\\left(q\\left|\\frac{p+q}{2}\\right. \\right) \\right)\n",
    "\\end{equation}"
   ]
  },
  {
   "cell_type": "markdown",
   "metadata": {},
   "source": [
    "A loss függvény a teljes mintahalmazra az egyéni loss-ok összege.\n",
    "\n",
    "\\begin{equation}\n",
    "L_{KL} = \\sum_i{\\sum_j{ y^{(i)}_j \\log \\frac{y^{(i)}_j}{\\tilde{y}^{(i)}_j}}}.\n",
    "\\end{equation}"
   ]
  },
  {
   "cell_type": "code",
   "execution_count": 9,
   "metadata": {},
   "outputs": [
    {
     "data": {
      "text/plain": [
       "[<matplotlib.lines.Line2D at 0x2067f993128>]"
      ]
     },
     "execution_count": 9,
     "metadata": {},
     "output_type": "execute_result"
    },
    {
     "data": {
      "image/png": "[encoded data removed]",
      "text/plain": [
       "<Figure size 432x288 with 1 Axes>"
      ]
     },
     "metadata": {},
     "output_type": "display_data"
    }
   ],
   "source": [
    "# Az összehasonlításhoz használjunk egy Bernoulli eloszlást.\n",
    "y_target = np.array([0.3, 1 - 0.3])\n",
    "x = [temp / 500. for temp in range(1, 500)]\n",
    "\n",
    "kl_div = lambda x: L.KLdiv().loss([np.array([x, 1-x])], [y_target])\n",
    "losses = list(map(kl_div, x))\n",
    "plt.plot(x, losses, 'b-')"
   ]
  },
  {
   "cell_type": "markdown",
   "metadata": {},
   "source": [
    "A KL divergencia mindig pozitív, amit a Jensen-egyenlőtelnségből láthatunk:\n",
    "\n",
    "\\begin{equation}\n",
    "\\varphi\\left( E[x] \\right) \\leq E\\left[ \\varphi(x) \\right],\n",
    "\\end{equation}\n",
    "\n",
    "ahol $\\varphi$ egy konvex függvény. Ezt kihasználva:\n",
    "\n",
    "\\begin{equation}\n",
    "\\log \\left( \\sum_i{p_i \\frac{q_i}{p_i}} \\right) \\geq \\left( \\sum_i{p_i \\log \\frac{q_i}{p_i}} \\right).\n",
    "\\end{equation}\n",
    "\n",
    "Itt az egyenlőtlenség jel fordítva szerepel, mivel a logaritmus függvény konkáv. Viszont (-log konvex lenne). Ezt követően néhány művelet után:\n",
    "\n",
    "\\begin{equation}\n",
    "\\log \\left( \\sum_i q_i \\right) = \\log (1) = 0 \\leq \\left( \\sum_i{p_i \\log \\frac{p_i}{q_i}} \\right) = KL(p|q).\n",
    "\\end{equation}"
   ]
  },
  {
   "cell_type": "markdown",
   "metadata": {},
   "source": [
    "## Slow down"
   ]
  },
  {
   "cell_type": "markdown",
   "metadata": {},
   "source": [
    "Ez a példa megtalálható ebben a könyvben is: [Michael Nielsen's book](http://neuralnetworksanddeeplearning.com/). A következő kép illusztrálja, hogy mi az architektúra.\n",
    "\n",
    "![slowdown](https://drive.google.com/uc?export=download&id=1UTOkphhIQCw0xGDorVXcdld0Hs3AzvTn)"
   ]
  },
  {
   "cell_type": "markdown",
   "metadata": {},
   "source": [
    "Tehát:\n",
    "\n",
    "* bemenet: $x = 1$\n",
    "* elvárt kimenet: $y = 0$\n",
    "* a súly az inicializáció után: $W = 5$\n",
    "* tanulási ráta: $\\alpha = 0.1$"
   ]
  },
  {
   "cell_type": "markdown",
   "metadata": {},
   "source": [
    "Először az MSE-t használjuk. Ekkor a teljes összefüggés a loss-ra:\n",
    "\n",
    "\\begin{equation}\n",
    "L_{mse} = \\frac{1}{2}\\left(0 - \\sigma(W \\cdot x) \\right)^2\n",
    "\\end{equation}\n",
    "\n",
    "ahol $\\sigma$ a szigmoid függvény.\n",
    "\n",
    "A második esetben a cross entropy loss-t fogjuk használni:\n",
    "\n",
    "\\begin{equation}\n",
    "L_h = -(1 - 0) \\cdot \\log\\left( 1 - \\sigma(W \\cdot x) \\right).\n",
    "\\end{equation}\n",
    "\n",
    "A súlyok frissítésének módja:\n",
    "\n",
    "\\begin{equation}\n",
    "W_{t+1} = W_t - \\alpha \\cdot \\left. \\frac{\\partial L}{\\partial W}\\right|_{W = W_t}\n",
    "\\end{equation}\n",
    "\n",
    "ahol $L$ vagy az MSE vagy a CE loss.\n",
    "\n",
    "Ezután a deriváltak:\n",
    "\n",
    "\\begin{equation}\n",
    "\\frac{\\partial L_{mse}}{\\partial W} = \\sigma(W \\cdot x)^2 \\cdot \\left( 1 - \\sigma(W \\cdot x) \\right) \\cdot x,\n",
    "\\end{equation}\n",
    "\n",
    "\\begin{equation}\n",
    "\\frac{\\partial L_{ce}}{\\partial W} = \\sigma(W \\cdot x) \\cdot x.\n",
    "\\end{equation}"
   ]
  },
  {
   "cell_type": "code",
   "execution_count": 6,
   "metadata": {},
   "outputs": [],
   "source": [
    "sigma = lambda x: 1.0/(1.0 + np.exp(-x))\n",
    "x = 1\n",
    "alpha = 0.01\n",
    "\n",
    "# MSE\n",
    "L_mse = lambda w: 0.5 * (sigma(w * x))**2\n",
    "dL_mse = lambda w: (sigma(w * x))**2 * (1 - sigma(w * x)) * x\n",
    "\n",
    "# CE\n",
    "L_ce = lambda w: -np.log(1 - sigma(w * x))\n",
    "dL_ce = lambda w: sigma(w* x) * x"
   ]
  },
  {
   "cell_type": "code",
   "execution_count": 7,
   "metadata": {},
   "outputs": [
    {
     "data": {
      "text/plain": [
       "[<matplotlib.lines.Line2D at 0x23d54a80da0>]"
      ]
     },
     "execution_count": 7,
     "metadata": {},
     "output_type": "execute_result"
    },
    {
     "data": {
      "image/png": "[encoded data removed]",
      "text/plain": [
       "<Figure size 432x288 with 1 Axes>"
      ]
     },
     "metadata": {},
     "output_type": "display_data"
    }
   ],
   "source": [
    "# MSE\n",
    "x_axis = []\n",
    "y_axis = []\n",
    "W = 5\n",
    "for i in range(3000):\n",
    "    loss = L_mse(W)\n",
    "    d_loss = dL_mse(W)\n",
    "    \n",
    "    W = W - 0.1 * d_loss\n",
    "    x_axis.append(i)\n",
    "    y_axis.append(loss)\n",
    "plt.plot(x_axis, y_axis, 'bo')"
   ]
  },
  {
   "cell_type": "code",
   "execution_count": 8,
   "metadata": {},
   "outputs": [
    {
     "data": {
      "text/plain": [
       "[<matplotlib.lines.Line2D at 0x23d54a5c908>]"
      ]
     },
     "execution_count": 8,
     "metadata": {},
     "output_type": "execute_result"
    },
    {
     "data": {
      "image/png": "[encoded data removed]",
      "text/plain": [
       "<Figure size 432x288 with 1 Axes>"
      ]
     },
     "metadata": {},
     "output_type": "display_data"
    }
   ],
   "source": [
    "# CE\n",
    "x_axis = []\n",
    "y_axis = []\n",
    "W = 5\n",
    "for i in range(300):\n",
    "    loss = L_ce(W)\n",
    "    d_loss = dL_ce(W)\n",
    "    \n",
    "    W = W - 0.1 * d_loss\n",
    "    x_axis.append(i)\n",
    "    y_axis.append(loss)\n",
    "plt.plot(x_axis, y_axis, 'yo')"
   ]
  },
  {
   "cell_type": "markdown",
   "metadata": {},
   "source": [
    "Ezt a jelenséget hívják **slow down**-nak. A lényege, hogyha valamilyen szaturálódó aktivációs függvény van a kimenet előtt és a hibát MSE-vel számoljuk, akkor abban az esetben, ha az elvárt kimenet és a prediktált kimenet távol vannak egymástól, a tanulás lelassulhat."
   ]
  },
  {
   "cell_type": "code",
   "execution_count": null,
   "metadata": {},
   "outputs": [],
   "source": []
  }
 ],
 "metadata": {
  "kernelspec": {
   "display_name": "Python 3",
   "language": "python",
   "name": "python3"
  },
  "language_info": {
   "codemirror_mode": {
    "name": "ipython",
    "version": 3
   },
   "file_extension": ".py",
   "mimetype": "text/x-python",
   "name": "python",
   "nbconvert_exporter": "python",
   "pygments_lexer": "ipython3",
   "version": "3.7.7"
  }
 },
 "nbformat": 4,
 "nbformat_minor": 4
}
