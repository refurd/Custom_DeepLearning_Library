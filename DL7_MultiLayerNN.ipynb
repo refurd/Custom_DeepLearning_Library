{
 "cells": [
  {
   "cell_type": "markdown",
   "metadata": {},
   "source": [
    "## MNIST MLP-vel"
   ]
  },
  {
   "cell_type": "code",
   "execution_count": 1,
   "metadata": {},
   "outputs": [],
   "source": [
    "%matplotlib inline\n",
    "%config IPCompleter.greedy=True"
   ]
  },
  {
   "cell_type": "code",
   "execution_count": 2,
   "metadata": {},
   "outputs": [],
   "source": [
    "from multilayer_nn import mlp, activations, losses, regularizers, initializers, optimizers\n",
    "from pckutils import mnist, utils\n",
    "import numpy as np\n",
    "from matplotlib import pyplot as plt\n",
    "import os"
   ]
  },
  {
   "cell_type": "markdown",
   "metadata": {},
   "source": [
    "### MNIST adatok betöltése"
   ]
  },
  {
   "cell_type": "code",
   "execution_count": 3,
   "metadata": {},
   "outputs": [
    {
     "name": "stdout",
     "output_type": "stream",
     "text": [
      "2051 60000 28 28\n",
      "Reading images: [100%]\n",
      "2049 60000\n",
      "Reading labels: [100%]\n",
      "2051 10000 28 28\n",
      "Reading images: [100%]\n",
      "2049 10000\n",
      "Reading labels: [100%]\n"
     ]
    }
   ],
   "source": [
    "data = mnist.load_mnist('data')"
   ]
  },
  {
   "cell_type": "code",
   "execution_count": 4,
   "metadata": {},
   "outputs": [],
   "source": [
    "# x-et kiegészítjük egy bias-val, ami 1, illetve 1-hot-encode-oljuk\n",
    "X = utils.add_bias_to_vectors(utils.scale(data.X_train, 1/255.0))\n",
    "Y = utils.one_hot_encode(data.Y_train, 10)"
   ]
  },
  {
   "cell_type": "markdown",
   "metadata": {},
   "source": [
    "### Felépítjük a neurális hálót"
   ]
  },
  {
   "cell_type": "code",
   "execution_count": 5,
   "metadata": {},
   "outputs": [],
   "source": [
    "loss = losses.CrossEntropy()\n",
    "initializer = initializers.Xavier()\n",
    "regularizer = regularizers.ZeroRegularizer()\n",
    "optimizer = optimizers.SGD(0.1)"
   ]
  },
  {
   "cell_type": "code",
   "execution_count": 6,
   "metadata": {},
   "outputs": [],
   "source": [
    "nn = mlp.Mlp(optimizer, loss, initializer, regularizer)"
   ]
  },
  {
   "cell_type": "code",
   "execution_count": 7,
   "metadata": {},
   "outputs": [],
   "source": [
    "nn.add_layer(30, input_length=28*28+1, activation=activations.Relu())\n",
    "nn.add_layer(20, activation=activations.Tanh())\n",
    "nn.add_layer(10, activation=activations.Softmax())"
   ]
  },
  {
   "cell_type": "code",
   "execution_count": 8,
   "metadata": {},
   "outputs": [],
   "source": [
    "# callback for gathering the error rates during training\n",
    "history = {'errors': [], 'losses': []}\n",
    "def performance_monitor(batch_y_p, batch_y, loss, ep, itr):\n",
    "    if itr % 2 == 0:\n",
    "        history['losses'].append(loss)\n",
    "        err = utils.error_rate(batch_y_p, batch_y)\n",
    "        history['errors'].append(err)"
   ]
  },
  {
   "cell_type": "code",
   "execution_count": null,
   "metadata": {},
   "outputs": [],
   "source": [
    "nn.fit(X, Y, 20, 6000, verbose=True, callback=performance_monitor)"
   ]
  },
  {
   "cell_type": "code",
   "execution_count": 11,
   "metadata": {},
   "outputs": [
    {
     "data": {
      "image/png": "[encoded data removed]",
      "text/plain": [
       "<Figure size 432x288 with 1 Axes>"
      ]
     },
     "metadata": {},
     "output_type": "display_data"
    }
   ],
   "source": [
    "iterations = [i for i in range(len(history['errors']))]\n",
    "plt.plot(iterations, history['errors'], 'ro')\n",
    "plt.show()"
   ]
  },
  {
   "cell_type": "code",
   "execution_count": 13,
   "metadata": {},
   "outputs": [
    {
     "name": "stdout",
     "output_type": "stream",
     "text": [
      "The error rate: 7.75%\n"
     ]
    }
   ],
   "source": [
    "# hiba arány a teszt adathalmazon\n",
    "X_test = utils.add_bias_to_vectors(utils.scale(data.X_test, 1/255.0))\n",
    "Y_test = utils.one_hot_encode(data.Y_test, 10)\n",
    "y_p = nn.predict_batch(X_test, 'onehot')\n",
    "\n",
    "error_rate = utils.error_rate(y_p, Y_test) * 100\n",
    "\n",
    "print('The error rate: %.2f%%' %error_rate)"
   ]
  },
  {
   "cell_type": "code",
   "execution_count": 14,
   "metadata": {},
   "outputs": [],
   "source": [
    "utils.save_parameters(nn.theta, \"weights/MultiLayerNN.json\")"
   ]
  }
 ],
 "metadata": {
  "kernelspec": {
   "display_name": "Python 3",
   "language": "python",
   "name": "python3"
  },
  "language_info": {
   "codemirror_mode": {
    "name": "ipython",
    "version": 3
   },
   "file_extension": ".py",
   "mimetype": "text/x-python",
   "name": "python",
   "nbconvert_exporter": "python",
   "pygments_lexer": "ipython3",
   "version": "3.7.7"
  }
 },
 "nbformat": 4,
 "nbformat_minor": 4
}
